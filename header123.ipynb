{
 "cells": [
  {
   "cell_type": "code",
   "execution_count": 1,
   "metadata": {},
   "outputs": [],
   "source": [
    "import requests as req"
   ]
  },
  {
   "cell_type": "code",
   "execution_count": 2,
   "metadata": {},
   "outputs": [],
   "source": [
    "url = 'https://www.amazon.in/?&tag=googhydrabk1-21&ref=pd_sl_7hz2t19t5c_e&adgrpid=155259815513&hvpone=&hvptwo=&hvadid=674842289437&hvpos=&hvnetw=g&hvrand=12182582171060665801&hvqmt=e&hvdev=c&hvdvcmdl=&hvlocint=&hvlocphy=9304011&hvtargid=kwd-10573980&hydadcr=14453_2316415&gad_source=1'"
   ]
  },
  {
   "cell_type": "code",
   "execution_count": 3,
   "metadata": {},
   "outputs": [],
   "source": [
    "new = req.get(url)"
   ]
  },
  {
   "cell_type": "code",
   "execution_count": 4,
   "metadata": {},
   "outputs": [
    {
     "name": "stdout",
     "output_type": "stream",
     "text": [
      "<Response [503]>\n"
     ]
    }
   ],
   "source": [
    "print(new)"
   ]
  },
  {
   "cell_type": "code",
   "execution_count": 5,
   "metadata": {},
   "outputs": [
    {
     "data": {
      "text/plain": [
       "503"
      ]
     },
     "execution_count": 5,
     "metadata": {},
     "output_type": "execute_result"
    }
   ],
   "source": [
    "new.status_code"
   ]
  },
  {
   "cell_type": "code",
   "execution_count": 6,
   "metadata": {},
   "outputs": [
    {
     "name": "stdout",
     "output_type": "stream",
     "text": [
      "<!DOCTYPE html>\n",
      "<!--[if lt IE 7]> <html lang=\"en-us\" class=\"a-no-js a-lt-ie9 a-lt-ie8 a-lt-ie7\"> <![endif]-->\n",
      "<!--[if IE 7]>    <html lang=\"en-us\" class=\"a-no-js a-lt-ie9 a-lt-ie8\"> <![endif]-->\n",
      "<!--[if IE 8]>    <html lang=\"en-us\" class=\"a-no-js a-lt-ie9\"> <![endif]-->\n",
      "<!--[if gt IE 8]><!-->\n",
      "<html class=\"a-no-js\" lang=\"en-us\"><!--<![endif]--><head>\n",
      "<meta http-equiv=\"content-type\" content=\"text/html; charset=UTF-8\">\n",
      "<meta charset=\"utf-8\">\n",
      "<meta http-equiv=\"X-UA-Compatible\" content=\"IE=edge,chrome=1\">\n",
      "<title dir=\"ltr\">Amazon.in</title>\n",
      "<meta name=\"viewport\" content=\"width=device-width\">\n",
      "<link rel=\"stylesheet\" href=\"https://images-na.ssl-images-amazon.com/images/G/01/AUIClients/AmazonUI-3c913031596ca78a3768f4e934b1cc02ce238101.secure.min._V1_.css\">\n",
      "<script>\n",
      "\n",
      "if (true === true) {\n",
      "    var ue_t0 = (+ new Date()),\n",
      "        ue_csm = window,\n",
      "        ue = { t0: ue_t0, d: function() { return (+new Date() - ue_t0); } },\n",
      "        ue_furl = \"fls-eu.amazon.in\",\n",
      "        ue_mid = \"A21TJRUUN4KGV\",\n",
      "        ue_sid = (document.cookie.match(/session-id=([0-9-]+)/) || [])[1],\n",
      "        ue_sn = \"opfcaptcha.amazon.in\",\n",
      "        ue_id = 'NTBV25H0W4FC1GRQ8J4K';\n",
      "}\n",
      "</script>\n",
      "</head>\n",
      "<body>\n",
      "\n",
      "<!--\n",
      "        To discuss automated access to Amazon data please contact api-services-support@amazon.com.\n",
      "        For information about migrating to our APIs refer to our Marketplace APIs at https://developer.amazonservices.in/ref=rm_c_sv, or our Product Advertising API at https://affiliate-program.amazon.in/gp/advertising/api/detail/main.html/ref=rm_c_ac for advertising use cases.\n",
      "-->\n",
      "\n",
      "<!--\n",
      "Correios.DoNotSend\n",
      "-->\n",
      "\n",
      "<div class=\"a-container a-padding-double-large\" style=\"min-width:350px;padding:44px 0 !important\">\n",
      "\n",
      "    <div class=\"a-row a-spacing-double-large\" style=\"width: 350px; margin: 0 auto\">\n",
      "\n",
      "        <div class=\"a-row a-spacing-medium a-text-center\"><i class=\"a-icon a-logo\"></i></div>\n",
      "\n",
      "        <div class=\"a-box a-alert a-alert-info a-spacing-base\">\n",
      "            <div class=\"a-box-inner\">\n",
      "                <i class=\"a-icon a-icon-alert\"></i>\n",
      "                <h4>Enter the characters you see below</h4>\n",
      "                <p class=\"a-last\">Sorry, we just need to make sure you're not a robot. For best results, please make sure your browser is accepting cookies.</p>\n",
      "                </div>\n",
      "            </div>\n",
      "\n",
      "            <div class=\"a-section\">\n",
      "\n",
      "                <div class=\"a-box a-color-offset-background\">\n",
      "                    <div class=\"a-box-inner a-padding-extra-large\">\n",
      "\n",
      "                        <form method=\"get\" action=\"/errors/validateCaptcha\" name=\"\">\n",
      "                            <input type=hidden name=\"amzn\" value=\"FLtgLcOqWUbt7pS191HJPA==\" /><input type=hidden name=\"amzn-r\" value=\"&#047;?&amp;tag&#061;googhydrabk1&#045;21&amp;ref&#061;pd_sl_7hz2t19t5c_e&amp;adgrpid&#061;155259815513&amp;hvpone&#061;&amp;hvptwo&#061;&amp;hvadid&#061;674842289437&amp;hvpos&#061;&amp;hvnetw&#061;g&amp;hvrand&#061;12182582171060665801&amp;hvqmt&#061;e&amp;hvdev&#061;c&amp;hvdvcmdl&#061;&amp;hvlocint&#061;&amp;hvlocphy&#061;9304011&amp;hvtargid&#061;kwd&#045;10573980&amp;hydadcr&#061;14453_2316415&amp;gad_source&#061;1\" />\n",
      "                            <div class=\"a-row a-spacing-large\">\n",
      "                                <div class=\"a-box\">\n",
      "                                    <div class=\"a-box-inner\">\n",
      "                                        <h4>Type the characters you see in this image:</h4>\n",
      "                                        <!-- For automated access to price change or offer listing change events,\n",
      "                                             please refer to the MWS Subscription API:\n",
      "                                             https://developer.amazonservices.in/gp/mws/api.html/276-5247872-0590350?ie=UTF8&section=subscriptions&group=subscriptions&version=latest\n",
      "                                        -->\n",
      "                                        <div class=\"a-row a-text-center\">\n",
      "                                            <img src=\"https://images-na.ssl-images-amazon.com/captcha/icyrpkip/Captcha_mxvonettnw.jpg\">\n",
      "                                        </div>\n",
      "                                        <div class=\"a-row a-spacing-base\">\n",
      "                                            <div class=\"a-row\">\n",
      "                                                <div class=\"a-column a-span6\">\n",
      "                                                </div>\n",
      "                                                <div class=\"a-column a-span6 a-span-last a-text-right\">\n",
      "                                                    <a onclick=\"window.location.reload()\">Try different image</a>\n",
      "                                                </div>\n",
      "                                            </div>\n",
      "                                            <input autocomplete=\"off\" spellcheck=\"false\" placeholder=\"Type characters\" id=\"captchacharacters\" name=\"field-keywords\" class=\"a-span12\" autocapitalize=\"off\" autocorrect=\"off\" type=\"text\">\n",
      "                                        </div>\n",
      "                                    </div>\n",
      "                                </div>\n",
      "                            </div>\n",
      "\n",
      "                            <div class=\"a-section a-spacing-extra-large\">\n",
      "\n",
      "                                <div class=\"a-row\">\n",
      "                                    <span class=\"a-button a-button-primary a-span12\">\n",
      "                                        <span class=\"a-button-inner\">\n",
      "                                            <button type=\"submit\" class=\"a-button-text\">Continue shopping</button>\n",
      "                                        </span>\n",
      "                                    </span>\n",
      "                                </div>\n",
      "\n",
      "                            </div>\n",
      "                        </form>\n",
      "\n",
      "                    </div>\n",
      "                </div>\n",
      "\n",
      "            </div>\n",
      "\n",
      "        </div>\n",
      "\n",
      "        <div class=\"a-divider a-divider-section\"><div class=\"a-divider-inner\"></div></div>\n",
      "\n",
      "        <div class=\"a-text-center a-spacing-small a-size-mini\">\n",
      "            <a href=\"https://www.amazon.in/gp/help/customer/display.html/ref=footer_cou?ie=UTF8&nodeId=200545940\">Conditions of Use &amp; Sale</a>\n",
      "            <span class=\"a-letter-space\"></span>\n",
      "            <span class=\"a-letter-space\"></span>\n",
      "            <span class=\"a-letter-space\"></span>\n",
      "            <span class=\"a-letter-space\"></span>\n",
      "            <a href=\"https://www.amazon.in/gp/help/customer/display.html/ref=footer_privacy?ie=UTF8&nodeId=200534380\">Privacy Notice</a>\n",
      "        </div>\n",
      "\n",
      "        <div class=\"a-text-center a-size-mini a-color-secondary\">\n",
      "          &copy; 1996-2015, Amazon.com, Inc. or its affiliates\n",
      "          <script>\n",
      "           if (true === true) {\n",
      "             document.write('<img src=\"https://fls-eu.amaz'+'on.in/'+'1/oc-csi/1/OP/requestId=NTBV25H0W4FC1GRQ8J4K&js=1\" />');\n",
      "           };\n",
      "          </script>\n",
      "          <noscript>\n",
      "            <img src=\"https://fls-eu.amazon.in/1/oc-csi/1/OP/requestId=NTBV25H0W4FC1GRQ8J4K&js=0\" />\n",
      "          </noscript>\n",
      "        </div>\n",
      "    </div>\n",
      "    <script>\n",
      "    if (true === true) {\n",
      "        var head = document.getElementsByTagName('head')[0],\n",
      "            prefix = \"https://images-eu.ssl-images-amazon.com/images/G/01/csminstrumentation/\",\n",
      "            elem = document.createElement(\"script\");\n",
      "        elem.src = prefix + \"csm-captcha-instrumentation.min.js\";\n",
      "        head.appendChild(elem);\n",
      "\n",
      "        elem = document.createElement(\"script\");\n",
      "        elem.src = prefix + \"rd-script-6d68177fa6061598e9509dc4b5bdd08d.js\";\n",
      "        head.appendChild(elem);\n",
      "    }\n",
      "    </script>\n",
      "</body></html>\n",
      "\n"
     ]
    }
   ],
   "source": [
    "lcontent =new.content.decode('utf-8')\n",
    "\n",
    "print(lcontent)"
   ]
  },
  {
   "cell_type": "code",
   "execution_count": 9,
   "metadata": {},
   "outputs": [
    {
     "name": "stdout",
     "output_type": "stream",
     "text": [
      "{'Content-Type': 'text/html', 'Transfer-Encoding': 'chunked', 'Connection': 'keep-alive', 'Server': 'Server', 'Date': 'Tue, 28 May 2024 09:54:33 GMT', 'x-amz-rid': 'NTBV25H0W4FC1GRQ8J4K', 'Vary': 'Content-Type,Accept-Encoding,User-Agent', 'Content-Encoding': 'gzip', 'Cache-Control': 'no-transform', 'Strict-Transport-Security': 'max-age=47474747; includeSubDomains; preload', 'X-Cache': 'Error from cloudfront', 'Via': '1.1 4067594c0a7ce97995ae63e2acbcd00c.cloudfront.net (CloudFront)', 'X-Amz-Cf-Pop': 'HYD57-P4', 'Alt-Svc': 'h3=\":443\"; ma=86400', 'X-Amz-Cf-Id': 'FpVTA3N_ODNWyhLLCSQJp9u_U4_zpgIV_589InM0PN6wLA7Q9FmYyQ=='}\n"
     ]
    }
   ],
   "source": [
    "\n",
    "type(new.headers)\n",
    "\n",
    "lHeader = new.headers\n",
    "\n",
    "print(lHeader)"
   ]
  },
  {
   "cell_type": "code",
   "execution_count": 10,
   "metadata": {},
   "outputs": [
    {
     "name": "stdout",
     "output_type": "stream",
     "text": [
      "Content-Type = text/html\n",
      "Date = Tue, 28 May 2024 09:54:33 GMT\n"
     ]
    }
   ],
   "source": [
    "print(f'Content-Type = {lHeader[\"Content-Type\"]}')\n",
    "\n",
    "print(f'Date = {lHeader[\"Date\"]}')"
   ]
  },
  {
   "cell_type": "code",
   "execution_count": 14,
   "metadata": {},
   "outputs": [],
   "source": [
    "useragent = 'Mozilla/5.0 (Linux; Android 6.0; Nexus 5 Build/MRA58N)'"
   ]
  },
  {
   "cell_type": "code",
   "execution_count": 15,
   "metadata": {},
   "outputs": [],
   "source": [
    "checkHeader = req.get(url, headers= {'User-Agent' : useragent})"
   ]
  },
  {
   "cell_type": "code",
   "execution_count": 16,
   "metadata": {},
   "outputs": [
    {
     "name": "stdout",
     "output_type": "stream",
     "text": [
      "<Response [200]>\n"
     ]
    }
   ],
   "source": [
    "print (checkHeader)"
   ]
  },
  {
   "cell_type": "code",
   "execution_count": 17,
   "metadata": {},
   "outputs": [
    {
     "data": {
      "text/plain": [
       "{'User-Agent': 'Mozilla/5.0 (Linux; Android 6.0; Nexus 5 Build/MRA58N)', 'Accept-Encoding': 'gzip, deflate', 'Accept': '*/*', 'Connection': 'keep-alive'}"
      ]
     },
     "execution_count": 17,
     "metadata": {},
     "output_type": "execute_result"
    }
   ],
   "source": [
    "checkHeader.request.headers"
   ]
  },
  {
   "cell_type": "code",
   "execution_count": null,
   "metadata": {},
   "outputs": [],
   "source": []
  }
 ],
 "metadata": {
  "kernelspec": {
   "display_name": "Python 3",
   "language": "python",
   "name": "python3"
  },
  "language_info": {
   "codemirror_mode": {
    "name": "ipython",
    "version": 3
   },
   "file_extension": ".py",
   "mimetype": "text/x-python",
   "name": "python",
   "nbconvert_exporter": "python",
   "pygments_lexer": "ipython3",
   "version": "3.12.3"
  }
 },
 "nbformat": 4,
 "nbformat_minor": 2
}
